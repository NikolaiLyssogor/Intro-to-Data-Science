{
 "cells": [
  {
   "cell_type": "code",
   "execution_count": 1,
   "metadata": {},
   "outputs": [],
   "source": [
    "from scipy import stats\n",
    "from math import isnan\n",
    "import numpy as np \n",
    "import statsmodels.api as sm\n",
    "import pandas as pd\n",
    "import matplotlib.pyplot as plt\n",
    "%matplotlib inline\n",
    "from calendar import month_name, different_locale"
   ]
  },
  {
   "cell_type": "code",
   "execution_count": 8,
   "metadata": {},
   "outputs": [
    {
     "name": "stdout",
     "output_type": "stream",
     "text": [
      "2.609013231778879\n",
      "0.010404833526214352\n"
     ]
    },
    {
     "ename": "TypeError",
     "evalue": "can't multiply sequence by non-int of type 'float'",
     "output_type": "error",
     "traceback": [
      "\u001b[1;31m---------------------------------------------------------------------------\u001b[0m",
      "\u001b[1;31mTypeError\u001b[0m                                 Traceback (most recent call last)",
      "\u001b[1;32m<ipython-input-8-ad1c99ac2a38>\u001b[0m in \u001b[0;36m<module>\u001b[1;34m\u001b[0m\n\u001b[0;32m      3\u001b[0m \u001b[0mp\u001b[0m \u001b[1;33m=\u001b[0m \u001b[1;36m2\u001b[0m\u001b[1;33m*\u001b[0m\u001b[1;33m(\u001b[0m\u001b[1;36m1\u001b[0m\u001b[1;33m-\u001b[0m\u001b[0mstats\u001b[0m\u001b[1;33m.\u001b[0m\u001b[0mt\u001b[0m\u001b[1;33m.\u001b[0m\u001b[0mcdf\u001b[0m\u001b[1;33m(\u001b[0m\u001b[0mt\u001b[0m\u001b[1;33m,\u001b[0m \u001b[0mdf\u001b[0m\u001b[1;33m=\u001b[0m\u001b[1;36m105\u001b[0m\u001b[1;33m)\u001b[0m\u001b[1;33m)\u001b[0m\u001b[1;33m\u001b[0m\u001b[1;33m\u001b[0m\u001b[0m\n\u001b[0;32m      4\u001b[0m \u001b[0mprint\u001b[0m\u001b[1;33m(\u001b[0m\u001b[0mp\u001b[0m\u001b[1;33m)\u001b[0m\u001b[1;33m\u001b[0m\u001b[1;33m\u001b[0m\u001b[0m\n\u001b[1;32m----> 5\u001b[1;33m \u001b[0mprint\u001b[0m\u001b[1;33m(\u001b[0m\u001b[1;34m\"%d\"\u001b[0m \u001b[1;33m%\u001b[0m \u001b[1;36m2.0\u001b[0m\u001b[1;33m*\u001b[0m\u001b[1;36m10.0\u001b[0m\u001b[1;33m**\u001b[0m\u001b[1;33m-\u001b[0m\u001b[1;36m16.0\u001b[0m\u001b[1;33m)\u001b[0m\u001b[1;33m\u001b[0m\u001b[1;33m\u001b[0m\u001b[0m\n\u001b[0m",
      "\u001b[1;31mTypeError\u001b[0m: can't multiply sequence by non-int of type 'float'"
     ]
    }
   ],
   "source": [
    "t = stats.t.ppf(.73111, df=105) - stats.t.ppf(.02455, df=105)\n",
    "print(t)\n",
    "p = 2*(1-stats.t.cdf(t, df=105))\n",
    "print(p)"
   ]
  },
  {
   "cell_type": "code",
   "execution_count": 67,
   "metadata": {},
   "outputs": [
    {
     "data": {
      "text/plain": [
       "-1.0364333894937898"
      ]
     },
     "execution_count": 67,
     "metadata": {},
     "output_type": "execute_result"
    }
   ],
   "source": [
    "stats.norm.ppf(.15)"
   ]
  },
  {
   "cell_type": "code",
   "execution_count": 69,
   "metadata": {},
   "outputs": [
    {
     "name": "stdout",
     "output_type": "stream",
     "text": [
      "-2.437200673925478\n"
     ]
    }
   ],
   "source": [
    "x = stats.norm.ppf(.15, loc=10, scale=12)\n",
    "print(x)"
   ]
  },
  {
   "cell_type": "code",
   "execution_count": 66,
   "metadata": {},
   "outputs": [
    {
     "data": {
      "text/plain": [
       "0.8416212335729143"
      ]
     },
     "execution_count": 66,
     "metadata": {},
     "output_type": "execute_result"
    }
   ],
   "source": [
    "stats.norm.ppf(.8)"
   ]
  },
  {
   "cell_type": "code",
   "execution_count": 47,
   "metadata": {},
   "outputs": [
    {
     "name": "stdout",
     "output_type": "stream",
     "text": [
      "Control vs. Test1: -1.763308\n",
      "Control vs. Test2: 1.436616\n",
      "Control vs. Test3: 4.082334\n",
      "z-crit: 1.644854\n",
      "beta_0: [56.366252, 65.145748]\n",
      "beta_1: [-10.440750, 1.922750]\n",
      "beta_2: [-2.043205, 10.273205]\n",
      "beta_3: [3.641250, 16.004750]\n"
     ]
    }
   ],
   "source": [
    "mu_c = 60.93\n",
    "mu_1 = 56.66\n",
    "mu_2 = 64.51\n",
    "mu_3 = 70.61\n",
    "s_c = 19.87\n",
    "s_1 = 18.39\n",
    "s_2 = 19.53\n",
    "s_3 = 17.55\n",
    "n = 125\n",
    "z_crit = stats.norm.ppf(1-.1/2)\n",
    "\n",
    "Cvs1 = (mu_1-mu_c)/np.sqrt((s_1**2/n)+(s_c**2/n))\n",
    "Cvs2 = (mu_2-mu_c)/np.sqrt((s_2**2/n)+(s_c**2/n))\n",
    "Cvs3 = (mu_3-mu_c)/np.sqrt((s_3**2/n)+(s_c**2/n))\n",
    "print(\"Control vs. Test1: %f\" % Cvs1)\n",
    "print(\"Control vs. Test2: %f\" % Cvs2)\n",
    "print(\"Control vs. Test3: %f\" % Cvs3)\n",
    "print(\"z-crit: %f\" % z_crit)\n",
    "t = stats.t.ppf(1-.01/2, 124)\n",
    "print(\"beta_0: [%f, %f]\" % ((60.756-t*1.678), (60.756+t*1.678)))\n",
    "print(\"beta_1: [%f, %f]\" % ((-4.259-t*2.363), (-4.259+t*2.363)))\n",
    "print(\"beta_2: [%f, %f]\" % ((4.115-t*2.354), (4.115+t*2.354)))\n",
    "print(\"beta_3: [%f, %f]\" % ((9.823-t*2.363), (9.823+t*2.363)))"
   ]
  }
 ],
 "metadata": {
  "kernelspec": {
   "display_name": "Python 3",
   "language": "python",
   "name": "python3"
  },
  "language_info": {
   "codemirror_mode": {
    "name": "ipython",
    "version": 3
   },
   "file_extension": ".py",
   "mimetype": "text/x-python",
   "name": "python",
   "nbconvert_exporter": "python",
   "pygments_lexer": "ipython3",
   "version": "3.8.3"
  }
 },
 "nbformat": 4,
 "nbformat_minor": 4
}
