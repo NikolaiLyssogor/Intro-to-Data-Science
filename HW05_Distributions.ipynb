{
 "cells": [
  {
   "cell_type": "markdown",
   "metadata": {},
   "source": [
    "#### <a id='top'></a>\n",
    "\n",
    "# Homework 5: Distributions\n",
    "***\n",
    "\n",
    "**Name**: Nikolai Lyssogor\n",
    "\n",
    "***\n",
    "\n",
    "This assignment is due on Canvas by **MIDNIGHT on Monday October 19**. Your solutions to theoretical questions should be done in Markdown directly below the associated question.  Your solutions to computational questions should include any specified Python code and results as well as written commentary on your conclusions.  Remember that you are encouraged to discuss the problems with your classmates, but **you must write all code and solutions on your own**.\n",
    "\n",
    "**NOTES**: \n",
    "\n",
    "- Any relevant data sets should be available under the **Data** module on Canvas. To make life easier on the graders if they need to run your code, do not change the relative path names here. Instead, move the files around on your computer.\n",
    "- If you're not familiar with typesetting math directly into Markdown then by all means, do your work on paper first and then typeset it later.  Remember that there is a [reference guide](https://math.meta.stackexchange.com/questions/5020/mathjax-basic-tutorial-and-quick-reference) linked on Canvas on writing math in Markdown. **All** of your written commentary, justifications and mathematical work should be in Markdown.\n",
    "- Because you can technically evaluate notebook cells is a non-linear order, it's a good idea to do Kernel $\\rightarrow$ Restart & Run All as a check before submitting your solutions.  That way if we need to run your code you will know that it will work as expected. \n",
    "- It is **bad form** to make your reader interpret numerical output from your code.  If a question asks you to compute some value from the data you should show your code output **AND** write a summary of the results in Markdown directly below your code. \n",
    "- 95 points of this assignment are in problems.  The remaining 5 are for neatness, style, and overall exposition of both code and text.\n",
    "- This probably goes without saying, but... For any question that asks you to calculate something, you **must show all work and justify your answers to receive credit**. Sparse or nonexistent work will receive sparse or nonexistent credit. \n",
    "\n",
    "---\n",
    "**Shortcuts:**  [Problem 1](#p1) | [Problem 2](#p2) | [Problem 3](#p3) |\n",
    "\n",
    "---"
   ]
  },
  {
   "cell_type": "code",
   "execution_count": 1,
   "metadata": {},
   "outputs": [],
   "source": [
    "import pandas as pd\n",
    "import numpy as np\n",
    "import matplotlib.pylab as plt\n",
    "%matplotlib inline"
   ]
  },
  {
   "cell_type": "markdown",
   "metadata": {},
   "source": [
    "***\n",
    "<a/ id='p1'></a>\n",
    "[Back to top](#top)\n",
    "\n",
    "## (30 pts) Problem 1: Theory (Continuous Distributions)\n",
    "***\n",
    "\n",
    "Suppose you are modeling the probability of observing various levels of cuteness in hedgehogs you encounter.  Let $X$ be a random variable representing the observed cuteness, which is *obviously* nonnegative and has units of deci*awws*. You decide to use the following pdf for $X$:\n",
    "\n",
    "$$\n",
    "f(x) = \\begin{cases}\n",
    "         c \\frac{1}{x^2} & =1 \\leq x < \\infty \\\\\n",
    "         0                           & \\text{otherwise}\n",
    "       \\end{cases}\n",
    "$$\n",
    "where $c$ is some normalizing constant.\n",
    "\n",
    "**Part A**: Determine the value of $c$ such that $f(x)$ is a valid probability density function. Then, make a plot of the probability density function for hedgehog cuteness, $f(x)$. Be sure to label your axes!"
   ]
  },
  {
   "cell_type": "markdown",
   "metadata": {},
   "source": [
    "To make $f(x)$ a valid pdf, we solve for $c$ where\n",
    "$$\\int_{1}^{\\infty}\\frac{c}{x^2} = 1$$ \\\n",
    "$$c\\int_{1}^{\\infty}\\frac{1}{x^2} = 1$$ \\\n",
    "$$c(\\frac{-1}{x}\\big|_1^\\infty) = 1$$ \\\n",
    "$$\\frac{-c}{\\infty} - (\\frac{-c}{1}) = 1$$ \\\n",
    "$$c = 1$$"
   ]
  },
  {
   "cell_type": "code",
   "execution_count": 13,
   "metadata": {},
   "outputs": [
    {
     "data": {
      "text/plain": [
       "Text(0.5, 1.0, 'PDF of Hedgehog Cuteness')"
      ]
     },
     "execution_count": 13,
     "metadata": {},
     "output_type": "execute_result"
    },
    {
     "data": {
      "image/png": "[encoded data removed]",
      "text/plain": [
       "<Figure size 720x360 with 1 Axes>"
      ]
     },
     "metadata": {
      "needs_background": "light"
     },
     "output_type": "display_data"
    }
   ],
   "source": [
    "# create some points to plot\n",
    "x = np.linspace(1, 25, 200)\n",
    "y = 1 / (x**2)\n",
    "\n",
    "fig = plt.figure(figsize = (10, 5))  \n",
    "plt.plot(x, y)\n",
    "plt.grid()\n",
    "plt.xlabel('deciawws')\n",
    "plt.ylabel('probability density')\n",
    "plt.title('PDF of Hedgehog Cuteness')"
   ]
  },
  {
   "cell_type": "markdown",
   "metadata": {},
   "source": [
    "**Part B**: Compute *by hand* the cumulative density (cdf) function $F(x)$ for $X$."
   ]
  },
  {
   "cell_type": "markdown",
   "metadata": {},
   "source": [
    "The cdf is the indefinite integral of the pdf:\n",
    "$$\\int_{1}^{x}\\frac{1}{t^2}dt$$ \\\n",
    "$$= \\frac{-1}{t}\\Big|_1^x $$ \\\n",
    "$$= 1 - \\frac{1}{x} $$"
   ]
  },
  {
   "cell_type": "markdown",
   "metadata": {},
   "source": [
    "**Part C:**  Use the cdf you derived in **Part B** to calculate the median ($\\tilde{x}$) cuteness of all hedgehogs."
   ]
  },
  {
   "cell_type": "markdown",
   "metadata": {},
   "source": [
    "The median cuteness of all hedgehogs is the value $x$ such that $P(X \\leq x) = .5$. This value can be found using the cdf: \n",
    "$$1 - \\frac{1}{x} = .5$$ \\\n",
    "$$x = 2$$\n",
    "That is to say that 50% of hedgehogs are cuter than 2 and 50% of 'hogs are not as cute as 2 (but still cute AF)"
   ]
  },
  {
   "cell_type": "markdown",
   "metadata": {},
   "source": [
    "**Part D**: It is a well-known fact that any hedgehog whose cuteness exceeds 2.5 deciawws is **totes adorbz**. Use the cdf you computed in **Part B** to find the probability that any arbitrary hedgehog that you observe is totes adorbz."
   ]
  },
  {
   "cell_type": "markdown",
   "metadata": {},
   "source": [
    "To compute this answer using the cdf, take $1 - P(X \\leq 2.5) = 1 - (1 - \\frac{1}{2.5}) = 1 - .6 = .4$. That is to say 40% of randomly observed 'hogs will be totes adorbz."
   ]
  },
  {
   "cell_type": "markdown",
   "metadata": {},
   "source": [
    "**Part E:** You have been painstakingly collecting data on hedgehogs all over town, and the cuteness is damn near overwhelming. Suppose you sample 5 hedgehogs, and the cuteness of any given hedgehog is independent of the cuteness of all other hedgehogs. What is the probability that more than half of them are totes adorbz? Keep at least 5 decimal places in your answer."
   ]
  },
  {
   "cell_type": "markdown",
   "metadata": {},
   "source": [
    "We are looking for the probability of getting 3 totes adorbz 'hogs out of 5. This smells a lot like a Bernoulli, defined as\n",
    "$$p^3(1 - p)^2\\binom{5}{3}$$ \n",
    "where p is the probability that a randomly observed 'hog is totes adorbz. Solving the equation, we see the probability of 3 out of 5 randomly selected 'hogs being totes adorbz is .23040"
   ]
  },
  {
   "cell_type": "markdown",
   "metadata": {},
   "source": [
    "***\n",
    "<a/ id='p2'></a>\n",
    "[Back to top](#top)\n",
    "\n",
    "## (30 pts) Problem 2: Theory (Named Distributions)\n",
    "***\n",
    "Person $X$ is waiting at a bus stop where the bus arrives *exactly* every ten minutes. Person Y is at a different stop, waiting for a bus that arrives *on average* every 8 minutes. Neither person knows how long ago the last bus arrived, and the arrival time of one bus is not dependent on the other bus.\n",
    "\n",
    "\n",
    "Answer the problems below assuming the wait time for person $Y$ follows an exponential distribution and the wait time for person $X$ follows a uniform distribution.\n",
    "\n",
    "**Part A**: What are the values of the parameters of the uniform distribution for person X?"
   ]
  },
  {
   "cell_type": "markdown",
   "metadata": {},
   "source": [
    "The parameters for the uniform distribution are $a = 0$ and $b = 10$"
   ]
  },
  {
   "cell_type": "markdown",
   "metadata": {},
   "source": [
    "**Part B**: What are the values of the parameters of the exponential distribution for person Y ?\n"
   ]
  },
  {
   "cell_type": "markdown",
   "metadata": {},
   "source": [
    "Since the bus arrives on average every 8 minutes, the rate is $\\lambda = 1/8$"
   ]
  },
  {
   "cell_type": "markdown",
   "metadata": {},
   "source": [
    "**Part C**: Let $Z$ be defined as the total amount of time both people (combined) wait.  What are $E[Z]$ and $Var[Z]$?"
   ]
  },
  {
   "cell_type": "markdown",
   "metadata": {},
   "source": [
    "**Expected Value:** For geometric distributions, we know from lecture the expected value is the inverse of the time-rate $= 1/\\lambda = 8$. The expected value for person X's wait time is $\\int_{0}^{10}\\frac{x}{10} = 5$. By the properties of expectation, $E[Z] = E[X + Y] = E[X] + E[Y] = 8 + 5 = 13\\\\$\n",
    "\n",
    "**Variance:** We set up the equation to solve for the variance for person X as $\\int_{1}^{10}\\frac{0}{10}(x - E[X])^2$. Solving the integral, we get $Var[X] = 8.3333$. The equation for the variance for person Y is $\\int_{0}^{\\infty}(y-E[Y])^2\\frac{1}{8}e^{-y/8}$. Solving this gives $\\frac{1}{\\lambda^2} = 64$. By the properties of variance, $Var[Z] = Var[X + Y] = Var[X] + Var[Y] = 8.3333 + 64 = 72.333$"
   ]
  },
  {
   "cell_type": "markdown",
   "metadata": {},
   "source": [
    "**Part D**: What is the exact probability both people wait more than 4 minutes?\n"
   ]
  },
  {
   "cell_type": "markdown",
   "metadata": {},
   "source": [
    "**P(X > 4):** $$\\int_{4}^{10}\\frac{1}{10}dx$$ \\\n",
    "              $$=\\frac{4 - 10}{10} = .6$$\n",
    "               \n",
    "**P(Y > 4):** $$\\int_{4}^{\\infty}\\frac{1}{8}e^{-y/8}dx$$ \\\n",
    "              $$= \\frac{1}{8}[-8e^{-y/8}]_4^\\infty$$ \\\n",
    "              $$= \\frac{1}{\\sqrt{e}} = .6065$$\n",
    "              \n",
    "The probability that both of these outcomes occur is the product of the two, which is .36392."
   ]
  },
  {
   "cell_type": "markdown",
   "metadata": {},
   "source": [
    "***\n",
    "<a/ id='p3'></a>\n",
    "[Back to top](#top)\n",
    "\n",
    "## (35 pts) Problem 3: Simulation and Theory (Games)\n",
    "***\n",
    "\n",
    "The Riddler is a column on the website https://fivethirtyeight.com that posts logic, math, and probability puzzles each week.  Some of puzzles can be attacked by simulation and discrete probability: things that we have the tools to solve!\n",
    "\n",
    "(https://fivethirtyeight.com/features/how-low-can-you-roll/)\n",
    "\n",
    "You are given a fair, unweighted 10-sided die with sides labeled 0 to 9 and a sheet of paper to record your score. (If the very notion of a fair 10-sided die bothers you, and you need to know what sort of three-dimensional solid it is, then forget it — you have a random number generator that gives you an integer value from 0 to 9 with equal probability. Your loss — the die was a collector’s item.)\n",
    "\n",
    "To start the game, you roll the die. Your current “score” is the number shown, divided by 10. For example, if you were to roll a 7, then your score would be 0.7. Then, you keep rolling the die over and over again. Each time you roll, if the digit shown by the die is less than or equal to the last digit of your score, then that roll becomes the new last digit of your score. Otherwise you just go ahead and roll again. The game ends when you roll a zero.\n",
    "\n",
    "For example, suppose you roll the following: 6, 2, 5, 1, 8, 1, 0. After your first roll, your score would be 0.6, After the second, it’s 0.62. You ignore the third roll, since 5 is greater than the current last digit, 2. After the fourth roll, your score is 0.621. You ignore the fifth roll, since 8 is greater than the current last digit, 1. After the sixth roll, your score is 0.6211. And after the seventh roll, the game is over — 0.6211 is your final score.\n",
    "\n",
    "What will be your average final score in this game?\n",
    "\n",
    "**Part A**: Suppose our current value is $0.abcd$ for some 1-9 integers $a, b, c, d.$  What is the theoretical distribution of $e$, the next *term* in the final score's decimal representation?  Name the distribution and list all of its outcomes and their probabilities.  Note that \"there are no additional terms\" should have non-zero probability."
   ]
  },
  {
   "cell_type": "markdown",
   "metadata": {},
   "source": [
    "If we suppose $d$ is the current last term in the score's decimal representation, the probability that there are no additional terms is $\\frac{9 - d + 1}{9}$, which accounts for $e$ values where $e > d$ and $e = 0$. For each of the potential values of $e$ given $d$, the probability that $e = x$ is the probability that values $[1, x-1]$ haven't been rolled in $n-1$ rolls times the probability that $x$ gets rolled this time. This essentially has a geometric distribution, where the \"fail\" case has a variable probability depending on what $x$ is. In general, $f(x) = \\frac{1}{9}(\\frac{9-x+1}{9})^{n-1}$"
   ]
  },
  {
   "cell_type": "markdown",
   "metadata": {},
   "source": [
    "**Part B**: What is the expected number of *rolls* until you're done?  What distribution is this?\n",
    "\n"
   ]
  },
  {
   "cell_type": "markdown",
   "metadata": {},
   "source": [
    "This is a geometric disribution since we are looking for $n - 1$ failures followed by 1 success. The expected value of this distribution for $p = \\frac{1}{9}$, the probability of rolling a 0, is:\n",
    "$$E[X] = \\int_{1}^{\\infty}\\frac{1}{9}x(1 - \\frac{1}{9})^{x - 1}dx$$ \\\n",
    "This equation didn't yeild a reasonable answer, so I must have gone wrong somewhere. But I kept track of the number of rolls for a each game in my simulation below and the average rolls/game was 3.824"
   ]
  },
  {
   "cell_type": "markdown",
   "metadata": {},
   "source": [
    "**Part C**: Simulate 10000 trials of this game, recording a score for each, then compute and print the average score over all of those trials. \n",
    "\n",
    "(Note: To check your result, you can find the exact *expected* solution in the following week's column: https://fivethirtyeight.com/features/can-you-decode-the-riddler-lottery/... but we want to simulate!)\n"
   ]
  },
  {
   "cell_type": "code",
   "execution_count": 214,
   "metadata": {},
   "outputs": [
    {
     "name": "stdout",
     "output_type": "stream",
     "text": [
      "average score for 10000 trials: 0.474804\n",
      "average number of rolls for 10000 trials: 3.823900\n"
     ]
    }
   ],
   "source": [
    "def how_low():\n",
    "    die = [0, 1, 2, 3, 4, 5, 6, 7, 8, 9]\n",
    "    prev_roll = 9\n",
    "    curr_roll = 0\n",
    "    score = []\n",
    "    i = 1\n",
    "    flag = True\n",
    "    \n",
    "    while(flag):\n",
    "        curr_roll = np.random.choice(die, 1)\n",
    "        \n",
    "        # 0 is rolled, end game\n",
    "        if(curr_roll[0] == 0):\n",
    "            flag = False\n",
    "            return (round(sum(score), i), i)\n",
    "        # roll less than previous, add to score\n",
    "        elif(curr_roll[0] <= prev_roll):\n",
    "            score.append(round(curr_roll[0] * (1 / 10**i), i))\n",
    "            prev_roll = curr_roll[0]\n",
    "            i += 1\n",
    "            #print(\"roll: %d\" % prev_roll)\n",
    "            #print(round(sum(score), i))\n",
    "        #else:\n",
    "            #print(\"roll: %d\" % curr_roll[0])\n",
    "            #print(round(sum(score), i))\n",
    "            \n",
    "def sim_game(n):\n",
    "    scores = [0 for i in range(n)]\n",
    "    score_sum = 0\n",
    "    rolls_sum = 0\n",
    "    \n",
    "    for i in range(0, n):\n",
    "        temp = how_low()\n",
    "        scores[i] = temp[0]\n",
    "        score_sum += temp[0]\n",
    "        rolls_sum += temp[1]\n",
    "   \n",
    "    return (score_sum / n, scores, rolls_sum / n)\n",
    "\n",
    "results = sim_game(10000)\n",
    "print(\"average score for 10000 trials: %f\" % results[0])\n",
    "print(\"average number of rolls for 10000 trials: %f\" % results[2])"
   ]
  },
  {
   "cell_type": "markdown",
   "metadata": {},
   "source": [
    "**Part D**: Make a histogram of all your scores from part C, and include a vertical line placed at the mean score from part C."
   ]
  },
  {
   "cell_type": "code",
   "execution_count": 215,
   "metadata": {},
   "outputs": [
    {
     "data": {
      "text/plain": [
       "<matplotlib.lines.Line2D at 0x249571ea910>"
      ]
     },
     "execution_count": 215,
     "metadata": {},
     "output_type": "execute_result"
    },
    {
     "data": {
      "image/png": "[encoded data removed]",
      "text/plain": [
       "<Figure size 864x432 with 1 Axes>"
      ]
     },
     "metadata": {
      "needs_background": "light"
     },
     "output_type": "display_data"
    }
   ],
   "source": [
    "fig, ax = plt.subplots(figsize = (12, 6))\n",
    "ax.hist(results[1], bins = 1000)\n",
    "plt.ylabel('frequency')\n",
    "plt.xlabel('score')\n",
    "plt.title('Frequency of Score in Die Game')\n",
    "ax.axvline(results[0], color = 'red', linestyle = 'dashed', linewidth = 1)"
   ]
  }
 ],
 "metadata": {
  "kernelspec": {
   "display_name": "Python 3",
   "language": "python",
   "name": "python3"
  },
  "language_info": {
   "codemirror_mode": {
    "name": "ipython",
    "version": 3
   },
   "file_extension": ".py",
   "mimetype": "text/x-python",
   "name": "python",
   "nbconvert_exporter": "python",
   "pygments_lexer": "ipython3",
   "version": "3.8.3"
  }
 },
 "nbformat": 4,
 "nbformat_minor": 2
}
